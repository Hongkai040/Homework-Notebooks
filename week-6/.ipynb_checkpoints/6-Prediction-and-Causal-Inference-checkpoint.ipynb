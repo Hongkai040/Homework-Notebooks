{
 "cells": [
  {
   "cell_type": "markdown",
   "metadata": {},
   "source": [
    "# Week 6 - Prediction & Causal Inference\n",
    "\n",
    "Last week, we covered the classification of text, such as classifying Reddit posts by thread topic. Classification often uses a representative sample of the text that we want to make inferences about, such as if we can human-code only a random sample of texts and then use ML to classify the rest.\n",
    "\n",
    "This week, we talk about two different types of inferences to out-of-sample populations. _Text as Data_ defines _prediction_ by the question: \"What value of the outcome do we expect for a unit or units out of a distinct population of units?\" Often this is prediction for the future. We don't expect the weather today to be identical to the weather tomorrow, but it should contain some useful information. They define _causal inference_ by the question: \"How do outcomes differ if we intervene in the world?\" Causality is a deeply contested notion in science and philosophy, but it usually involves an \"if,\" a different between two counterfactual worlds, one where an event occurs and one where it doesn't.\n",
    "\n",
    "For this notebook we will be using the following packages"
   ]
  },
  {
   "cell_type": "code",
   "execution_count": 1,
   "metadata": {},
   "outputs": [],
   "source": [
    "#Special module written for this class\n",
    "#This provides access to data and to helper functions from previous weeks\n",
    "#Make sure you update it before starting this notebook\n",
    "import lucem_illud #pip install -U git+git://github.com/UChicago-Computational-Content-Analysis/lucem_illud.git\n",
    "\n",
    "#All these packages need to be installed from pip\n",
    "import requests #For getting files\n",
    "import zipfile #For managing zips\n",
    "import numpy as np #For arrays\n",
    "import scipy as sp #For some stats\n",
    "import pandas as pd #Gives us DataFrames\n",
    "import numpy as np #Math and matrices\n",
    "import matplotlib.pyplot as plt #For graphics\n",
    "\n",
    "from transformers import pipeline\n",
    "\n",
    "#This 'magic' command makes the plots work better\n",
    "#in the notebook, don't use it outside of a notebook.\n",
    "#Also you can ignore the warning\n",
    "%matplotlib inline\n",
    "\n",
    "import os #For looking through files\n",
    "import os.path #For managing file paths\n",
    "\n",
    "pd.set_option('display.max_columns', None)"
   ]
  },
  {
   "cell_type": "markdown",
   "metadata": {},
   "source": [
    "# Prediction\n",
    "We can make predictions about a range of different populations of texts. We can use texts in English to predict their translated version in French. We can use newspaper articles from 2012 to 2022 to predict 2023 newspaper articles (e.g., a [time series](https://en.wikipedia.org/wiki/Time_series)). Instead of forecasting, we can \"nowcast\" by using real-time social information such as Tweets to predict when an important event is happening, such as a riot.\n",
    "\n",
    "If we don't have any information about how the new population will vary from the population we learned from, then prediction is implemented in the same way as in-sample inference. For example, if you have a categorization of 2022 emails as spam or not, you could predict whether 2023 emails are spam the same way you predicted 2022 emails. On the other hand, if you have new information, such as a trend beginning in December 2022 for spam emails to have \"Urgent:\" in the subject line, your 2023 prediction may differ by putting more weight on that indicator relative to others.\n",
    "\n",
    "We currently don't have code for this, because it's so similar to the classification last week, but we encourage you to think more about this if you're interested in predicting the future of your corpus!"
   ]
  },
  {
   "cell_type": "markdown",
   "metadata": {},
   "source": [
    "# Text in causal inference\n",
    "\n",
    "In causal inference, we are interested in the effect of a _treatment_ on an _outcome_. There are five sorts of variables that could be directly involved in our causal model, and any of them could be a text variable. This figure from [Keith et al. 2020](https://aclanthology.org/2020.acl-main.474.pdf) concisely shows the five positions for variables in acyclic (i.e., no arrows flow back into themselves) causal inference: treatment, mediator, outcome, confounder, and collider.\n",
    "\n",
    "<img src=\"https://raw.githubusercontent.com/UChicago-Computational-Content-Analysis/Homework-Notebooks/main/week-6/img/causal_diagram.png\" alt=\"https://raw.githubusercontent.com/UChicago-Computational-Content-Analysis/Homework-Notebooks/main/week-6/img/causal_diagram.png\" style=\"width:500px\">\n",
    "\n",
    "\"Text as treatment\" means the effect of text on other variables. For example, how does the news coverage of a politician affect their election chance? How does the sentiment of a Reddit post affect its upvotes?\n",
    "\n",
    "Whether we're interested in text as treatment, mediator, outcome, or confounder, we have at our disposal the same causal inference strategies used with other forms of data, such as matching, difference in difference, regression discontinuity, and instrumental variable. Each of these methods usually gives you a more precise identification of the causal effect than a plain regression. For example, one of the readings for this week, [Saha 2019](https://doi.org/10.1145/3292522.3326032), uses propensity score matching, which is a straightforward method that works on most datasets but has relatively weak identification. Some scholars such as Gary King advocate for an improved method, [coarsened exact matching](https://www.youtube.com/watch?v=tvMyjDi4dyg). However, for this assignment, we do not go into these methods. We only use simple regressions. There are several courses at UChicago that introduce these methods, as well as online textbooks like Scott Cunningham's [Causal Inference: The Mixtape](https://mixtape.scunning.com/), which is geared towards economists.\n",
    "\n",
    "You can do causal inference on any sort of text data as long as you have a plausible _identification_ strategy, meaning an argument that you can correctly identify a causal effect if one exists using your data and analysis. For example, if you have a data from a randomized controlled trial (RCT) where you intervene randomly with some treatment, you can identify a causal effect with relative ease."
   ]
  },
  {
   "cell_type": "markdown",
   "metadata": {},
   "source": [
    "# Text as treatment and outcome\n",
    "\n",
    "To show text as treatment and outcome, we will analyze a dataset of internet arguments. We have 8,8895 pairs of comments, where one person makes a statement and the other responds. Our research question is thus: _How does the text of the first commenter affect the text of the respondent?_\n",
    "\n",
    "The data comes from the [Internet Argument Corpus](https://nlds.soe.ucsc.edu/iac). Let's load the data and take a look."
   ]
  },
  {
   "cell_type": "code",
   "execution_count": 2,
   "metadata": {},
   "outputs": [
    {
     "name": "stdout",
     "output_type": "stream",
     "text": [
      "Downloaded file: http://nldslab.soe.ucsc.edu/iac/iac_v1.1.zip\n"
     ]
    }
   ],
   "source": [
    "url = 'http://nldslab.soe.ucsc.edu/iac/iac_v1.1.zip'\n",
    "\n",
    "req = requests.get(url)\n",
    "\n",
    "filename = url.split('/')[-1]\n",
    "with open(filename,'wb') as output_file:\n",
    "    output_file.write(req.content)\n",
    "print('Downloaded file: ' + url)"
   ]
  },
  {
   "cell_type": "code",
   "execution_count": 3,
   "metadata": {},
   "outputs": [
    {
     "ename": "NameError",
     "evalue": "name 'qr_sub' is not defined",
     "output_type": "error",
     "traceback": [
      "\u001b[1;31m---------------------------------------------------------------------------\u001b[0m",
      "\u001b[1;31mNameError\u001b[0m                                 Traceback (most recent call last)",
      "\u001b[1;32m~\\AppData\\Local\\Temp/ipykernel_15908/2101242561.py\u001b[0m in \u001b[0;36m<module>\u001b[1;34m\u001b[0m\n\u001b[0;32m     10\u001b[0m \u001b[1;31m# qr_sub = qr\u001b[0m\u001b[1;33m\u001b[0m\u001b[1;33m\u001b[0m\u001b[1;33m\u001b[0m\u001b[0m\n\u001b[0;32m     11\u001b[0m \u001b[1;33m\u001b[0m\u001b[0m\n\u001b[1;32m---> 12\u001b[1;33m \u001b[0mpairs\u001b[0m \u001b[1;33m=\u001b[0m \u001b[0mqr_sub\u001b[0m\u001b[1;33m.\u001b[0m\u001b[0mmerge\u001b[0m\u001b[1;33m(\u001b[0m\u001b[0mmd\u001b[0m\u001b[1;33m,\u001b[0m \u001b[0mhow\u001b[0m\u001b[1;33m=\u001b[0m\u001b[1;34m'inner'\u001b[0m\u001b[1;33m,\u001b[0m \u001b[0mon\u001b[0m\u001b[1;33m=\u001b[0m\u001b[1;34m'key'\u001b[0m\u001b[1;33m)\u001b[0m\u001b[1;33m\u001b[0m\u001b[1;33m\u001b[0m\u001b[0m\n\u001b[0m\u001b[0;32m     13\u001b[0m \u001b[0mpairs\u001b[0m \u001b[1;33m=\u001b[0m \u001b[0mpairs\u001b[0m\u001b[1;33m[\u001b[0m\u001b[1;33m~\u001b[0m\u001b[0mpairs\u001b[0m\u001b[1;33m.\u001b[0m\u001b[0mquote_post_id\u001b[0m\u001b[1;33m.\u001b[0m\u001b[0misnull\u001b[0m\u001b[1;33m(\u001b[0m\u001b[1;33m)\u001b[0m \u001b[1;33m&\u001b[0m \u001b[1;33m~\u001b[0m\u001b[0mpairs\u001b[0m\u001b[1;33m.\u001b[0m\u001b[0mresponse_post_id\u001b[0m\u001b[1;33m.\u001b[0m\u001b[0misnull\u001b[0m\u001b[1;33m(\u001b[0m\u001b[1;33m)\u001b[0m\u001b[1;33m]\u001b[0m\u001b[1;33m\u001b[0m\u001b[1;33m\u001b[0m\u001b[0m\n\u001b[0;32m     14\u001b[0m \u001b[0mpairs\u001b[0m\u001b[1;33m\u001b[0m\u001b[1;33m\u001b[0m\u001b[0m\n",
      "\u001b[1;31mNameError\u001b[0m: name 'qr_sub' is not defined"
     ]
    }
   ],
   "source": [
    "with zipfile.ZipFile('iac_v1.1.zip') as z:\n",
    "   with z.open('iac_v1.1/data/fourforums/annotations/mechanical_turk/qr_averages.csv') as f:\n",
    "      qr = pd.read_csv(f)\n",
    "\n",
    "   with z.open('iac_v1.1/data/fourforums/annotations/mechanical_turk/qr_meta.csv') as f:\n",
    "      md = pd.read_csv(f)\n",
    "\n",
    "# columns = ['key', 'nicenasty', 'questioning-asserting', 'negotiate-attack', 'fact-feeling']\n",
    "# qr_sub = qr[columns]\n",
    "# qr_sub = qr\n",
    "\n",
    "pairs = qr.merge(md, how='inner', on='key')\n",
    "pairs = pairs[~pairs.quote_post_id.isnull() & ~pairs.response_post_id.isnull()]\n",
    "pairs"
   ]
  },
  {
   "cell_type": "markdown",
   "metadata": {},
   "source": [
    "That's a lot of variables! Variables like \"agree-disagree\" are the averages of annotations of the data made by workers on Mechanical Turk. The workers were asked questions like:\n",
    "\n",
    "* __agree-disagree__ (Boolean): Does the respondent agree or disagree with the prior post?\n",
    "* __fact-feeling__  (-5 to 5): Is the respondent attempting to make a fact based argument or appealing to feelings and emotions?\n",
    "* __attack__ (-5 to 5): Is the respondent being supportive/respectful or are they attacking/insulting in their writing?\n",
    "* __sarcasm__ (-5 to 5): Is the respondent using sarcasm?\n",
    "\n",
    "Unfortunately the dataset only has the \"response\" annotated, not the original \"quote.\" However, some \"responses\" in this dataset are also \"quotes,\" meaning we can form triples of quote-response-response. Let's self-merge this dataframe to get these \"r1\" and \"r2\" pairs where both texts have annotations."
   ]
  },
  {
   "cell_type": "code",
   "execution_count": null,
   "metadata": {},
   "outputs": [],
   "source": [
    "# Self-merge where the 'response' matches another 'quote' in the DataFrame\n",
    "triples = pairs.merge(pairs,left_on='response',right_on='quote',how='inner',suffixes=('_r1','_r2'))\n",
    "\n",
    "# Rename and reorder columns\n",
    "triples = triples.rename(columns={'quote_r1':'quote', 'quote_r2':'response1', 'response_r2':'response2'})\n",
    "triples = triples.drop(columns=['response_r1'])\n",
    "front_columns = [\n",
    "                 'quote','response1','response2','attack_r1','fact-feeling_r1','nicenasty_r1','sarcasm_r1',\n",
    "                 'agreement_r2'\n",
    "                ]\n",
    "triples = triples.dropna(subset=front_columns)\n",
    "triples = triples[front_columns].join(triples.drop(columns=front_columns))\n",
    "\n",
    "# Display triples\n",
    "triples"
   ]
  },
  {
   "cell_type": "markdown",
   "metadata": {},
   "source": [
    "Now we have 1,346 triples of quote-response1-response2, several text variables of response1 (e.g., \"Is the respondent using sarcasm?\") that may predict the agreement of response2. In other words: _Does a sarcastic comment lead to more agreement?_ Of course, as with almost all observational data, there are a number of confounders that make our identification difficult, but for now, let's see how to run a simple regression in Python of agreement_r2 (dependent variable, commonly known as Y) on sarcasm_r1. Fortunately, we do have a strong case for identifying the direction of causality: Because response1 comes before response2, we can rule out the possibility that response2 affects response1."
   ]
  },
  {
   "cell_type": "code",
   "execution_count": null,
   "metadata": {},
   "outputs": [],
   "source": [
    "# statsmodels is a popular Python statistics package\n",
    "import statsmodels.api as sm\n",
    "\n",
    "# We build an Ordinary Least Squares (OLS) model of agreement_r2 on sarcasm_r1.\n",
    "# The function sm.add_constant() adds an intercept term to the regression (e.g., b in y = ax + b)\n",
    "y = triples['agreement_r2']\n",
    "X_cols = ['sarcasm_r1']\n",
    "X = sm.add_constant(triples[X_cols])\n",
    "\n",
    "lm1 = sm.OLS(y,X).fit()\n",
    "lm1.summary()"
   ]
  },
  {
   "cell_type": "markdown",
   "metadata": {},
   "source": [
    "The p-value for sarcasm_r1 is 0.855, which means we fail to reject the null hypothesis that there is no effect of sarcasm on agreement. However, we have other variables that may be confounding the effect of pure \"attack\" or pure \"sarcasm.\" Let's try adding 3 other annotations to the regression model."
   ]
  },
  {
   "cell_type": "code",
   "execution_count": null,
   "metadata": {},
   "outputs": [],
   "source": [
    "y = triples['agreement_r2']\n",
    "X_cols = ['attack_r1','fact-feeling_r1','nicenasty_r1','sarcasm_r1']\n",
    "X = sm.add_constant(triples[X_cols])\n",
    "\n",
    "lm2 = sm.OLS(y,X).fit()\n",
    "lm2.summary()"
   ]
  },
  {
   "cell_type": "markdown",
   "metadata": {},
   "source": [
    "With this new regression model, we see a significant effect from both attack_r1 and sarcasm_r1, indicating both of these affect whether the response2 agrees with response1. Note that the coefficients are both positive: For attack_r1, this means that a more \"supportive/respectful\" comment led to more agreement, and for sarcasm_r1, this means that a more sarcasistic comment led to more agreement! Is that surprising?\n",
    "\n",
    "For good measure, we can add other variables ourselves, such as sentiment and the character length of the comment. The length may be particularly important because of how it affects the annotations of Mechanical Turk workers. For example, as I was skimming through the data, it seemed like shorter comments were being rated as more supportive/respectful, even if this was not the case on a per-word basis. For sentiment, let's use the convenient BERT pipeline we used last week."
   ]
  },
  {
   "cell_type": "code",
   "execution_count": null,
   "metadata": {},
   "outputs": [],
   "source": [
    "triples['length_r1'] = triples['response1'].apply(lambda x: len(x))\n",
    "triples['length_r2'] = triples['response2'].apply(lambda x: len(x))"
   ]
  },
  {
   "cell_type": "code",
   "execution_count": null,
   "metadata": {},
   "outputs": [],
   "source": [
    "sentiment = pipeline(\"sentiment-analysis\")\n",
    "result = sentiment(\"I hate you\")[0]\n",
    "print(f\"label: {result['label']}, with score: {round(result['score'], 4)}\")"
   ]
  },
  {
   "cell_type": "markdown",
   "metadata": {},
   "source": [
    "This version of BERT is built only for texts of up to 512 tokens, so for comments longer than that, we truncate."
   ]
  },
  {
   "cell_type": "code",
   "execution_count": null,
   "metadata": {},
   "outputs": [],
   "source": [
    "%%time\n",
    "\n",
    "triples['sentiment_r1'] = triples['response1'].apply(lambda x: sentiment(x[:512])[0]['score'])\n",
    "triples['sentiment_r2'] = triples['response2'].apply(lambda x: sentiment(x[:512])[0]['score'])"
   ]
  },
  {
   "cell_type": "code",
   "execution_count": null,
   "metadata": {},
   "outputs": [],
   "source": [
    "y = triples['agreement_r2']\n",
    "X_cols = ['attack_r1','fact-feeling_r1','nicenasty_r1','sarcasm_r1','length_r1','sentiment_r1']\n",
    "X = sm.add_constant(triples[X_cols])\n",
    "\n",
    "lm2 = sm.OLS(y,X).fit()\n",
    "lm2.summary()"
   ]
  },
  {
   "cell_type": "markdown",
   "metadata": {},
   "source": [
    "Our finding of significant effects for attack_r1 and sarcasm_r1 persists even with these new controls! This sort of robustness or sensitivity analysis is important for making sure your finding is compelling to yourself and to your audience."
   ]
  },
  {
   "cell_type": "code",
   "execution_count": null,
   "metadata": {},
   "outputs": [],
   "source": [
    "np.corrcoef(triples[X_cols])"
   ]
  },
  {
   "cell_type": "markdown",
   "metadata": {},
   "source": [
    "## <font color=\"red\">*Exercise 1*</font>\n",
    "\n",
    "<font color=\"red\">Propose a simple causal model in your data, or a different causal model in the annotated Internet Arguments Corpus (e.g., a different treatment, a different outcome) and test it using a linear regression. If you are using social media data for your final project, we encourage you to classify or annotate that data (either compuationally or with human annotators) and look at the effect of texts on replies to that text (e.g., Reddit posts on Reddit comments, Tweets on Twitter replies, YouTube video transcripts on YouTube comments)."
   ]
  },
  {
   "cell_type": "markdown",
   "metadata": {},
   "source": [
    "## Splitting training and test text\n",
    "Above, we used a number of external measures of text, meaning that the measures were developed without any influence from this dataset. For the annotations, it was Mechanical Turk workers measuring the text. For length, that is just a mathematical count of characters. For sentiment, that BERT model was not based on this Internet Arguments Corpus.\n",
    "\n",
    "However, this is not always the case. Consider if we want to make a measure of the text based on topic modeling. We build an LDA topic model of these comments, then we measure what number of words from Topic 1 each comment uses. Can we put that measure in the regression? Unfortunately it would lead to a biased estimate of the true effect size because our measure is no longer external. The measure and the model are double-dipping the textual information. This is important to keep in mind for your final projects, and for a more thorough explanation and justification, you can read [Egami et al. 2018](https://arxiv.org/pdf/1802.02163.pdf)."
   ]
  },
  {
   "cell_type": "markdown",
   "metadata": {},
   "source": [
    "# Text as mediator\n",
    "\n",
    "What if text is instead the _mediator_, meaning it is effected by the teatment and effects the outcome?"
   ]
  },
  {
   "cell_type": "code",
   "execution_count": null,
   "metadata": {},
   "outputs": [],
   "source": []
  },
  {
   "cell_type": "markdown",
   "metadata": {},
   "source": [
    "# Text as confounder\n",
    "The causal effect we're interested in estimating might not be our causal relationship of interest. Instead, it could be another variable that affects both our treatment and outcome, known as a _confounder_. Why do we need to control for this? If we didn't, we might correctly find that the treatment and outcome are correlated, but rather than one causing the other, they could both be caused by a third variable. For example, if we are studying the effect of the journal a paper is published in on the citations of the paper, we may be worried that the text of the article affects both whether it is published by the journal and whether people cite it."
   ]
  },
  {
   "cell_type": "code",
   "execution_count": null,
   "metadata": {},
   "outputs": [],
   "source": [
    "# complaints data"
   ]
  },
  {
   "cell_type": "markdown",
   "metadata": {},
   "source": [
    "# Customization of text to fit causal inference methods\n",
    "\n",
    "2020 Causal Embedding Veitch and Blei\n",
    "https://github.com/blei-lab/causal-text-embeddings"
   ]
  },
  {
   "cell_type": "code",
   "execution_count": null,
   "metadata": {},
   "outputs": [],
   "source": [
    "# start with data from the paper"
   ]
  }
 ],
 "metadata": {
  "anaconda-cloud": {},
  "kernelspec": {
   "display_name": "Python 3 (ipykernel)",
   "language": "python",
   "name": "python3"
  },
  "language_info": {
   "codemirror_mode": {
    "name": "ipython",
    "version": 3
   },
   "file_extension": ".py",
   "mimetype": "text/x-python",
   "name": "python",
   "nbconvert_exporter": "python",
   "pygments_lexer": "ipython3",
   "version": "3.8.8"
  }
 },
 "nbformat": 4,
 "nbformat_minor": 1
}
